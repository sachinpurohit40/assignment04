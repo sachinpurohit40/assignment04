{
 "cells": [
  {
   "cell_type": "markdown",
   "id": "1dff0046",
   "metadata": {},
   "source": [
    "# ASSIGNMENT 04\n"
   ]
  },
  {
   "cell_type": "markdown",
   "id": "f8a8999a",
   "metadata": {},
   "source": [
    "que1 - What exactly is []?\n",
    "\n",
    "ans1 - In Python, [] represents an empty list. A list is a data structure that can hold a collection of items, \n",
    "       and [] is used to denote an empty list, meaning it contains no elements. Lists are ordered and mutable,\n",
    "       which means you can add, remove, and modify elements within a list. Here's an example of an empty list:\n",
    "       eg = empty_list =[]\n"
   ]
  },
  {
   "cell_type": "markdown",
   "id": "659b5d49",
   "metadata": {},
   "source": [
    "que 2 =  In a list of values stored in a variable called spam, how would you assign the value 'hello' as the third value?             (Assume [2, 4, 6, 8, 10] are in spam.)\n",
    "\n",
    "ans 2 = You can assign the value 'hello' as the third value in the list stored in the variable spam by using indexing and                assignment. In Python, indexing starts at 0, so the third value would be at index 2. \n",
    "\n",
    "      solve\n"
   ]
  },
  {
   "cell_type": "code",
   "execution_count": 3,
   "id": "6a82e288",
   "metadata": {},
   "outputs": [
    {
     "name": "stdout",
     "output_type": "stream",
     "text": [
      "[2, 4, 'hello', 8, 10]\n"
     ]
    }
   ],
   "source": [
    "spam = [2, 4, 6, 8, 10]\n",
    "spam[2] = 'hello'\n",
    "print(spam)\n"
   ]
  },
  {
   "cell_type": "markdown",
   "id": "7b55a388",
   "metadata": {},
   "source": [
    "Let's pretend the spam includes the list ['a', 'b', 'c', 'd'] for the next three queries.\n",
    "\n",
    "que 3 =  What is the value of spam[int(int('3' * 2) / 11)]?\n",
    "\n",
    "ans 3 ="
   ]
  },
  {
   "cell_type": "code",
   "execution_count": 8,
   "id": "89b7a2fe",
   "metadata": {},
   "outputs": [
    {
     "data": {
      "text/plain": [
       "'d'"
      ]
     },
     "execution_count": 8,
     "metadata": {},
     "output_type": "execute_result"
    }
   ],
   "source": [
    "spam = ['a', 'b','c','d']\n",
    "spam[int(int('3' * 2) / 11)] # spam[int(33/11)] = spam[3]\n",
    "     "
   ]
  },
  {
   "cell_type": "markdown",
   "id": "6f3f65cb",
   "metadata": {},
   "source": [
    "que 4 =  What is the value of spam[-1]?\n",
    "\n",
    "ans4 ="
   ]
  },
  {
   "cell_type": "code",
   "execution_count": 12,
   "id": "ce95a539",
   "metadata": {},
   "outputs": [
    {
     "data": {
      "text/plain": [
       "'d'"
      ]
     },
     "execution_count": 12,
     "metadata": {},
     "output_type": "execute_result"
    }
   ],
   "source": [
    "spam = ['a', 'b','c','d']\n",
    "spam[-1] # negative index  d"
   ]
  },
  {
   "cell_type": "markdown",
   "id": "873eec42",
   "metadata": {},
   "source": [
    "que 5 = What is the value of spam[:2]?\n",
    "\n",
    "ans 5 ="
   ]
  },
  {
   "cell_type": "code",
   "execution_count": 13,
   "id": "26799caa",
   "metadata": {},
   "outputs": [
    {
     "data": {
      "text/plain": [
       "['a', 'b']"
      ]
     },
     "execution_count": 13,
     "metadata": {},
     "output_type": "execute_result"
    }
   ],
   "source": [
    "spam = ['a', 'b','c','d']\n",
    "spam[:2]"
   ]
  },
  {
   "cell_type": "markdown",
   "id": "be7ed15a",
   "metadata": {},
   "source": [
    "Let's pretend bacon has the list [3.14, 'cat,' 11, 'cat,' True] for the next three questions.\n",
    "\n",
    "\n",
    "que 6 = What is the value of bacon.index('cat')?\n",
    "\n",
    "ans 6 ="
   ]
  },
  {
   "cell_type": "code",
   "execution_count": 14,
   "id": "1b261c77",
   "metadata": {},
   "outputs": [
    {
     "data": {
      "text/plain": [
       "1"
      ]
     },
     "execution_count": 14,
     "metadata": {},
     "output_type": "execute_result"
    }
   ],
   "source": [
    "bacon = [3.14, 'cat', 11, 'cat', True]\n",
    "bacon.index('cat') # it returns the index of first occurrence of 'cat'"
   ]
  },
  {
   "cell_type": "markdown",
   "id": "aef43801",
   "metadata": {},
   "source": [
    "que 7 = How does bacon.append(99) change the look of the list value in bacon?\n",
    "\n",
    "ans 7 = "
   ]
  },
  {
   "cell_type": "code",
   "execution_count": 15,
   "id": "6b08b281",
   "metadata": {},
   "outputs": [
    {
     "name": "stdout",
     "output_type": "stream",
     "text": [
      "[3.14, 'cat', 11, 'cat', True, 99]\n"
     ]
    }
   ],
   "source": [
    "bacon = [3.14, 'cat', 11, 'cat', True]\n",
    "bacon.append(99) # append adds the item at the end of the list\n",
    "print(bacon)"
   ]
  },
  {
   "cell_type": "markdown",
   "id": "6c0dacc8",
   "metadata": {},
   "source": [
    "que 8 =  How does bacon.remove('cat') change the look of the list in bacon?\n",
    "\n",
    "ans 8 =\n"
   ]
  },
  {
   "cell_type": "code",
   "execution_count": 16,
   "id": "2c8a2644",
   "metadata": {},
   "outputs": [
    {
     "name": "stdout",
     "output_type": "stream",
     "text": [
      "[3.14, 11, 'cat', True]\n"
     ]
    }
   ],
   "source": [
    "bacon = [3.14, 'cat', 11, 'cat', True]\n",
    "bacon.remove('cat') # remove first occurrence of item\n",
    "print(bacon)"
   ]
  },
  {
   "cell_type": "markdown",
   "id": "82784fa7",
   "metadata": {},
   "source": [
    "que9 =  What are the list concatenation and list replication operators?\n",
    "\n",
    "ans 9 ="
   ]
  },
  {
   "cell_type": "markdown",
   "id": "59b50d02",
   "metadata": {},
   "source": [
    "In Python, you can concatenate and replicate lists using different operators:\n",
    "\n",
    "List Concatenation + = The + operator is used for list concatenation.\n",
    "                  It allows you to combine two or more lists into a single list. Here's an example:"
   ]
  },
  {
   "cell_type": "code",
   "execution_count": 18,
   "id": "939581a7",
   "metadata": {},
   "outputs": [
    {
     "name": "stdout",
     "output_type": "stream",
     "text": [
      "[1, 2, 3, 4, 5, 6]\n"
     ]
    }
   ],
   "source": [
    "list1 = [1, 2, 3]\n",
    "list2 = [4, 5, 6]\n",
    "concatenated_list = list1 + list2\n",
    "print(concatenated_list)\n"
   ]
  },
  {
   "cell_type": "markdown",
   "id": "ca60ce96",
   "metadata": {},
   "source": [
    "List Replication *:The * operator is used for list replication.\n",
    "    It allows you to create a new list by repeating the elements of an existing list multiple times. Here's an example:"
   ]
  },
  {
   "cell_type": "code",
   "execution_count": 19,
   "id": "9d57bd6f",
   "metadata": {},
   "outputs": [
    {
     "name": "stdout",
     "output_type": "stream",
     "text": [
      "[1, 2, 3, 1, 2, 3, 1, 2, 3]\n"
     ]
    }
   ],
   "source": [
    "original_list = [1, 2, 3]\n",
    "replicated_list = original_list * 3\n",
    "print(replicated_list)\n"
   ]
  },
  {
   "cell_type": "markdown",
   "id": "eafb8067",
   "metadata": {},
   "source": [
    "que10  = What is difference between the list methods append() and insert()?\n",
    "\n",
    "ans10  = append()- is used to add an element to the end of a list.\n",
    "                  It takes a single argument, which is the element you want to add.\n",
    "                   The element is added as the last item in the list, increasing the list's length by 1.\n",
    "                   eg.\n",
    "\n"
   ]
  },
  {
   "cell_type": "code",
   "execution_count": 20,
   "id": "27495304",
   "metadata": {},
   "outputs": [
    {
     "name": "stdout",
     "output_type": "stream",
     "text": [
      "[1, 2, 3, 4]\n"
     ]
    }
   ],
   "source": [
    "my_list = [1, 2, 3]\n",
    "my_list.append(4)\n",
    "print(my_list)  # Output: [1, 2, 3, 4]\n"
   ]
  },
  {
   "cell_type": "markdown",
   "id": "7c4786fe",
   "metadata": {},
   "source": [
    "insert() = insert() is used to add an element at a specific index within the list.\n",
    "          It takes two arguments: the first argument is the index where you want to insert the element,\n",
    "          and the second argument is the element itself.\n",
    "        The element is inserted at the specified index, and the existing elements are shifted to accommodate the new element. \n",
    "        This may change the order of the elements in the list."
   ]
  },
  {
   "cell_type": "code",
   "execution_count": 21,
   "id": "e41cdb3c",
   "metadata": {},
   "outputs": [
    {
     "name": "stdout",
     "output_type": "stream",
     "text": [
      "[1, 4, 2, 3]\n"
     ]
    }
   ],
   "source": [
    "my_list = [1, 2, 3]\n",
    "my_list.insert(1, 4)  # Insert 4 at index 1\n",
    "print(my_list)  # Output: [1, 4, 2, 3]\n"
   ]
  },
  {
   "cell_type": "markdown",
   "id": "4b2a84bf",
   "metadata": {},
   "source": [
    "que 11 = What are the two methods for removing items from a list?\n",
    "\n",
    "ans 11 = In Python, there are two commonly used methods for removing items from a list: list.remove() and del\n",
    "\n",
    "        1) list.remove(): This method is used to remove the first occurrence of a specified value from the list\n",
    "            eg.\n"
   ]
  },
  {
   "cell_type": "code",
   "execution_count": 22,
   "id": "8d9cccd5",
   "metadata": {},
   "outputs": [
    {
     "name": "stdout",
     "output_type": "stream",
     "text": [
      "[1, 2, 4, 3]\n"
     ]
    }
   ],
   "source": [
    "my_list = [1, 2, 3, 4, 3]\n",
    "my_list.remove(3)  # Removes the first occurrence of 3\n",
    "print(my_list)     # Output: [1, 2, 4, 3]\n"
   ]
  },
  {
   "cell_type": "markdown",
   "id": "b01d8c1a",
   "metadata": {},
   "source": [
    "2). del: The del statement is a more general way to remove items from a list. \n",
    "    It can be used to remove an item by index or to remove slices of a list.\n",
    "    eg."
   ]
  },
  {
   "cell_type": "code",
   "execution_count": 23,
   "id": "3e05d274",
   "metadata": {},
   "outputs": [
    {
     "name": "stdout",
     "output_type": "stream",
     "text": [
      "[1, 2, 4]\n"
     ]
    }
   ],
   "source": [
    "my_list = [1, 2, 3, 4]\n",
    "del my_list[2]  # Removes the item at index 2 (third item)\n",
    "print(my_list)  # Output: [1, 2, 4]\n"
   ]
  },
  {
   "cell_type": "markdown",
   "id": "c547d02c",
   "metadata": {},
   "source": [
    "que12 = Describe how list values and string values are identical.\n",
    "\n",
    "ans12 =  List values and string values are both data types in programming, but they have some similarities and differences. Here are some ways in which they can be considered identical:\n",
    "\n",
    "\n",
    "Sequential Data: Both lists and strings are sequences of data. A string is a sequence of characters, while a list is a sequence of values or items. This means they both have an order, and you can access individual elements based on their position in the sequence.\n",
    "\n",
    "\n",
    "Indexing: You can access elements in both lists and strings using indexing. In Python, for example, you can use square brackets and an index to retrieve a specific element. For strings, this retrieves a character, and for lists, it retrieves an item.\n",
    "\n",
    "Example:\n"
   ]
  },
  {
   "cell_type": "code",
   "execution_count": 24,
   "id": "c268074b",
   "metadata": {},
   "outputs": [
    {
     "name": "stdout",
     "output_type": "stream",
     "text": [
      "H\n",
      "2\n"
     ]
    }
   ],
   "source": [
    "my_string = \"Hello\"\n",
    "my_list = [1, 2, 3, 4, 5]\n",
    "\n",
    "print(my_string[0])  \n",
    "print(my_list[1])    \n"
   ]
  },
  {
   "cell_type": "markdown",
   "id": "6751b563",
   "metadata": {},
   "source": [
    "Iteration: You can iterate through both lists and strings using loops. This allows you to process each element or character one by one.\n",
    "\n",
    "Example"
   ]
  },
  {
   "cell_type": "code",
   "execution_count": 25,
   "id": "c24101eb",
   "metadata": {},
   "outputs": [
    {
     "name": "stdout",
     "output_type": "stream",
     "text": [
      "H\n",
      "e\n",
      "l\n",
      "l\n",
      "o\n",
      "1\n",
      "2\n",
      "3\n",
      "4\n",
      "5\n"
     ]
    }
   ],
   "source": [
    "my_string = \"Hello\"\n",
    "my_list = [1, 2, 3, 4, 5]\n",
    "\n",
    "for char in my_string:\n",
    "    print(char)\n",
    "\n",
    "for item in my_list:\n",
    "    print(item)\n"
   ]
  },
  {
   "cell_type": "markdown",
   "id": "32016aa4",
   "metadata": {},
   "source": [
    "Length: You can determine the length (the number of elements or characters) of both lists and strings using the len() function.\n",
    "    \n",
    "Example:"
   ]
  },
  {
   "cell_type": "code",
   "execution_count": 27,
   "id": "e95107e8",
   "metadata": {},
   "outputs": [
    {
     "name": "stdout",
     "output_type": "stream",
     "text": [
      "5\n",
      "5\n"
     ]
    }
   ],
   "source": [
    "my_string = \"Hello\"\n",
    "my_list = [1, 2, 3, 4, 5]\n",
    "\n",
    "print(len(my_string)) \n",
    "print(len(my_list))   \n"
   ]
  },
  {
   "cell_type": "markdown",
   "id": "31bb9470",
   "metadata": {},
   "source": [
    "Despite these similarities, it's important to note that lists and strings also have significant differences. \n",
    "Strings are immutable, meaning you cannot change their individual characters once they are created, while lists are mutable,\n",
    "allowing you to modify their elements. Lists can contain a mix of different data types, whereas strings are typically composed of characters.\n",
    "These differences make them suitable for different purposes in programming."
   ]
  },
  {
   "cell_type": "markdown",
   "id": "062a48d0",
   "metadata": {},
   "source": [
    "que13 = What's the difference between tuples and lists?\n",
    "\n",
    "ans13 =uples and lists are both data structures used in programming, but they have several key differences:\n",
    "\n",
    "Mutability:\n",
    "\n",
    "Lists are mutable, which means you can change their contents (add, remove, or modify elements) after they are created.\n",
    "Tuples are immutable, which means once you create a tuple, you cannot change its contents. You can't add, remove, or modify elements in a tuple. If you need to make changes, you must create a new tuple.\n",
    "Syntax:\n",
    "\n",
    "Lists are defined using square brackets, e.g., [1, 2, 3].\n",
    "Tuples are defined using parentheses, e.g., (1, 2, 3).\n",
    "Use Cases:\n",
    "\n",
    "Lists are typically used when you have a collection of items that can change over time and need to be modified, such as a list of tasks, items in a shopping cart, or a sequence of numbers that will be updated.\n",
    "Tuples are used when you have a collection of items that should not change, such as a pair of coordinates (x, y) or a record representing a specific entity, like a person's name and age. Tuples are often used for data that should remain constant throughout the program's execution.\n",
    "Performance:\n",
    "\n",
    "Due to their immutability, tuples can be more efficient in terms of memory usage and slightly faster in certain operations compared to lists. However, this performance difference is usually negligible for most applications.\n",
    "Methods and Functions:\n",
    "\n",
    "Lists have more built-in methods for adding, removing, and manipulating elements, such as append(), insert(), remove(), and more.\n",
    "Tuples have fewer methods since they are immutable, but they do share some common operations with lists, like indexing and slicing.\n",
    "Here's a simple example to illustrate the differences:"
   ]
  },
  {
   "cell_type": "code",
   "execution_count": 29,
   "id": "94b8496d",
   "metadata": {},
   "outputs": [],
   "source": [
    "# Creating a list\n",
    "my_list = [1, 2, 3]\n",
    "my_list.append(4)  # This is allowed\n",
    "my_list[0] = 0     # This is allowed\n",
    "\n",
    "# Creating a tuple\n",
    "my_tuple = (1, 2, 3)\n",
    "# The following lines would result in errors because tuples are immutable:\n",
    "# my_tuple.append(4)  # Error\n",
    "# my_tuple[0] = 0     # Error\n"
   ]
  },
  {
   "cell_type": "markdown",
   "id": "869a0945",
   "metadata": {},
   "source": [
    "que 14 = How do you type a tuple value that only contains the integer 42?\n",
    "    \n",
    "ans 14 = To type a tuple containing the integer 42 in Python, you can use parentheses and separate the value with a comma.\n",
    "         Here's how you can create a tuple with the integer 42"
   ]
  },
  {
   "cell_type": "code",
   "execution_count": 30,
   "id": "ef761806",
   "metadata": {},
   "outputs": [],
   "source": [
    "my_tuple = (42,)\n"
   ]
  },
  {
   "cell_type": "markdown",
   "id": "07cc50bd",
   "metadata": {},
   "source": [
    "que 15 =  How do you get a list value's tuple form? How do you get a tuple value's list form?\n",
    "\n",
    "ans 15 =  To convert a list value into a tuple, you can use the built-in tuple() function in Python. Here's an example:"
   ]
  },
  {
   "cell_type": "code",
   "execution_count": 31,
   "id": "4baf6a54",
   "metadata": {},
   "outputs": [
    {
     "name": "stdout",
     "output_type": "stream",
     "text": [
      "(1, 2, 3, 4, 5)\n"
     ]
    }
   ],
   "source": [
    "my_list = [1, 2, 3, 4, 5]\n",
    "my_tuple = tuple(my_list)\n",
    "print(my_tuple)\n"
   ]
  },
  {
   "cell_type": "markdown",
   "id": "7b864ccd",
   "metadata": {},
   "source": [
    "To convert a tuple value into a list, you can use the built-in list() function in Python. Here's an example:"
   ]
  },
  {
   "cell_type": "code",
   "execution_count": 33,
   "id": "ff461d06",
   "metadata": {},
   "outputs": [
    {
     "name": "stdout",
     "output_type": "stream",
     "text": [
      "[1, 2, 3, 4, 5]\n"
     ]
    }
   ],
   "source": [
    "my_tuple = (1, 2, 3, 4, 5)\n",
    "my_list = list(my_tuple)\n",
    "print(my_list)\n"
   ]
  },
  {
   "cell_type": "markdown",
   "id": "94470d47",
   "metadata": {},
   "source": [
    "que 16 = Variables that \"contain\" list values are not necessarily lists themselves. Instead, what do they contain?\n",
    "\n",
    "ans 16 =  variables that \"contain\" list values often contain references or pointers to the memory locations where the list data is stored, rather than the lists themselves\n",
    "They contain references to list values.\n"
   ]
  },
  {
   "cell_type": "markdown",
   "id": "c2db26da",
   "metadata": {},
   "source": [
    "que 17 = How do you distinguish between copy.copy() and copy.deepcopy()?\n",
    "\n",
    "ans 17 = copy.copy(): This function creates a shallow copy of an object. A shallow copy of an object is a new object that is a             of the original object, but it does not create copies of the objects contained within the original object. Instead,             it copies references to those objects. In other words, it creates a new outer container, but the inner elements                are still references to the same objects as the original."
   ]
  },
  {
   "cell_type": "code",
   "execution_count": 34,
   "id": "2e8cfab7",
   "metadata": {},
   "outputs": [
    {
     "name": "stdout",
     "output_type": "stream",
     "text": [
      "[[100, 2, 3], [4, 5, 6]]\n"
     ]
    }
   ],
   "source": [
    "import copy\n",
    "\n",
    "original_list = [[1, 2, 3], [4, 5, 6]]\n",
    "shallow_copy = copy.copy(original_list)\n",
    "\n",
    "# Modifying an element in the shallow copy affects the original\n",
    "shallow_copy[0][0] = 100\n",
    "\n",
    "print(original_list)  # Output: [[100, 2, 3], [4, 5, 6]]\n"
   ]
  },
  {
   "cell_type": "markdown",
   "id": "044c47d2",
   "metadata": {},
   "source": [
    "copy.deepcopy(): This function creates a deep copy of an object. \n",
    "    A deep copy of an object is a new object that is a complete and independent copy of the original object along with all the objects contained within it. \n",
    "    It recursively copies all the nested objects and their contents, so changes made to the copied object do not affect the original, and vice versa."
   ]
  },
  {
   "cell_type": "code",
   "execution_count": 35,
   "id": "2710a578",
   "metadata": {},
   "outputs": [
    {
     "name": "stdout",
     "output_type": "stream",
     "text": [
      "[[1, 2, 3], [4, 5, 6]]\n"
     ]
    }
   ],
   "source": [
    "import copy\n",
    "\n",
    "original_list = [[1, 2, 3], [4, 5, 6]]\n",
    "deep_copy = copy.deepcopy(original_list)\n",
    "\n",
    "# Modifying an element in the deep copy does not affect the original\n",
    "deep_copy[0][0] = 100\n",
    "\n",
    "print(original_list)  # Output: [[1, 2, 3], [4, 5, 6]]\n"
   ]
  },
  {
   "cell_type": "code",
   "execution_count": null,
   "id": "ff2e5792",
   "metadata": {},
   "outputs": [],
   "source": []
  }
 ],
 "metadata": {
  "kernelspec": {
   "display_name": "Python 3 (ipykernel)",
   "language": "python",
   "name": "python3"
  },
  "language_info": {
   "codemirror_mode": {
    "name": "ipython",
    "version": 3
   },
   "file_extension": ".py",
   "mimetype": "text/x-python",
   "name": "python",
   "nbconvert_exporter": "python",
   "pygments_lexer": "ipython3",
   "version": "3.11.4"
  }
 },
 "nbformat": 4,
 "nbformat_minor": 5
}
